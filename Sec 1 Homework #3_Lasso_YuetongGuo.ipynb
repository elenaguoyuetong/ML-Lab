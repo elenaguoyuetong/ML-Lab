{
 "cells": [
  {
   "cell_type": "code",
   "execution_count": 1,
   "id": "1022e4d8",
   "metadata": {},
   "outputs": [],
   "source": [
    "import pandas as pd"
   ]
  },
  {
   "cell_type": "markdown",
   "id": "a98f5070",
   "metadata": {},
   "source": [
    "# 0.) Clean the Apple Data to get a quarterly series of EPS."
   ]
  },
  {
   "cell_type": "code",
   "execution_count": 2,
   "id": "c7f8e883",
   "metadata": {},
   "outputs": [
    {
     "data": {
      "text/html": [
       "<div>\n",
       "<style scoped>\n",
       "    .dataframe tbody tr th:only-of-type {\n",
       "        vertical-align: middle;\n",
       "    }\n",
       "\n",
       "    .dataframe tbody tr th {\n",
       "        vertical-align: top;\n",
       "    }\n",
       "\n",
       "    .dataframe thead th {\n",
       "        text-align: right;\n",
       "    }\n",
       "</style>\n",
       "<table border=\"1\" class=\"dataframe\">\n",
       "  <thead>\n",
       "    <tr style=\"text-align: right;\">\n",
       "      <th></th>\n",
       "      <th>BasicEPS</th>\n",
       "    </tr>\n",
       "  </thead>\n",
       "  <tbody>\n",
       "    <tr>\n",
       "      <th>2004-03-31</th>\n",
       "      <td>0.002</td>\n",
       "    </tr>\n",
       "    <tr>\n",
       "      <th>2004-06-30</th>\n",
       "      <td>0.003</td>\n",
       "    </tr>\n",
       "    <tr>\n",
       "      <th>2004-09-30</th>\n",
       "      <td>0.0</td>\n",
       "    </tr>\n",
       "    <tr>\n",
       "      <th>2004-12-31</th>\n",
       "      <td>0.013</td>\n",
       "    </tr>\n",
       "    <tr>\n",
       "      <th>2005-03-31</th>\n",
       "      <td>0.013</td>\n",
       "    </tr>\n",
       "    <tr>\n",
       "      <th>...</th>\n",
       "      <td>...</td>\n",
       "    </tr>\n",
       "    <tr>\n",
       "      <th>2022-09-30</th>\n",
       "      <td>1.29</td>\n",
       "    </tr>\n",
       "    <tr>\n",
       "      <th>2022-12-31</th>\n",
       "      <td>1.89</td>\n",
       "    </tr>\n",
       "    <tr>\n",
       "      <th>2023-03-31</th>\n",
       "      <td>1.53</td>\n",
       "    </tr>\n",
       "    <tr>\n",
       "      <th>2023-06-30</th>\n",
       "      <td>1.27</td>\n",
       "    </tr>\n",
       "    <tr>\n",
       "      <th>2023-09-30</th>\n",
       "      <td>1.47</td>\n",
       "    </tr>\n",
       "  </tbody>\n",
       "</table>\n",
       "<p>79 rows × 1 columns</p>\n",
       "</div>"
      ],
      "text/plain": [
       "           BasicEPS\n",
       "2004-03-31    0.002\n",
       "2004-06-30    0.003\n",
       "2004-09-30      0.0\n",
       "2004-12-31    0.013\n",
       "2005-03-31    0.013\n",
       "...             ...\n",
       "2022-09-30     1.29\n",
       "2022-12-31     1.89\n",
       "2023-03-31     1.53\n",
       "2023-06-30     1.27\n",
       "2023-09-30     1.47\n",
       "\n",
       "[79 rows x 1 columns]"
      ]
     },
     "execution_count": 2,
     "metadata": {},
     "output_type": "execute_result"
    }
   ],
   "source": [
    "y = pd.read_csv(\"AAPL_quarterly_financials.csv\")\n",
    "\n",
    "y.index = y.name\n",
    "y = pd.DataFrame(y.loc['BasicEPS', :]).iloc[2:, :]\n",
    "y.index = pd.to_datetime(y.index)\n",
    "\n",
    "# check if NAs are no dividend period\n",
    "y = y.sort_index().fillna(0.)\n",
    "\n",
    "y = y.loc[\"2004-03-31\":]\n",
    "\n",
    "y"
   ]
  },
  {
   "cell_type": "markdown",
   "id": "f41c46a9",
   "metadata": {},
   "source": [
    "# 1.) Come up with 6 search terms you think could nowcast earnings. (Different than the ones I used) Add in 3 terms that that you think will not Nowcast earnings. Pull in the gtrends data. Clean it to have a quarterly average."
   ]
  },
  {
   "cell_type": "code",
   "execution_count": 3,
   "id": "f5eab2e0",
   "metadata": {},
   "outputs": [
    {
     "name": "stdout",
     "output_type": "stream",
     "text": [
      "zsh:1: /Users/elena/Library/Python/3.8/bin/pip: bad interpreter: /Library/Developer/CommandLineTools/usr/bin/python3: no such file or directory\r\n"
     ]
    }
   ],
   "source": [
    "!pip install pytrends"
   ]
  },
  {
   "cell_type": "code",
   "execution_count": 4,
   "id": "65e083ca",
   "metadata": {},
   "outputs": [],
   "source": [
    "from pytrends.request import TrendReq"
   ]
  },
  {
   "cell_type": "code",
   "execution_count": 73,
   "id": "36446546",
   "metadata": {},
   "outputs": [],
   "source": [
    "# Create pytrends object\n",
    "pytrends = TrendReq(hl='en-US', tz=360)\n",
    "\n",
    "# Set up the keywords and the timeframe\n",
    "# keywords = [\"iPhone\", \"Recession\", \"Samsung\", \"Interest Rates\", \"Phone Repair\", \"Buy iPhone\", \"Sell iPhone\", \"New Phone\"]\n",
    "keywords = [\"iPhone\", \"IOS\", \"Apple\", \"Mac\", \"Operating System\", \"App\", \"Water\", \"Banana\", \"Jump\"]\n",
    "\n",
    "start_date = '2004-01-01'\n",
    "end_date = '2024-01-01'\n",
    "\n",
    "# Create an empty DataFrame to store the results\n",
    "df = pd.DataFrame()\n",
    "\n",
    "# Iterate through keywords and fetch data\n",
    "for keyword in keywords:\n",
    "    pytrends.build_payload([keyword], cat=0, timeframe=f'{start_date} {end_date}', geo='', gprop='')\n",
    "    interest_over_time_df = pytrends.interest_over_time()\n",
    "    df[keyword] = interest_over_time_df[keyword]"
   ]
  },
  {
   "cell_type": "code",
   "execution_count": 74,
   "id": "38ca16ed",
   "metadata": {},
   "outputs": [
    {
     "data": {
      "text/html": [
       "<div>\n",
       "<style scoped>\n",
       "    .dataframe tbody tr th:only-of-type {\n",
       "        vertical-align: middle;\n",
       "    }\n",
       "\n",
       "    .dataframe tbody tr th {\n",
       "        vertical-align: top;\n",
       "    }\n",
       "\n",
       "    .dataframe thead th {\n",
       "        text-align: right;\n",
       "    }\n",
       "</style>\n",
       "<table border=\"1\" class=\"dataframe\">\n",
       "  <thead>\n",
       "    <tr style=\"text-align: right;\">\n",
       "      <th></th>\n",
       "      <th>iPhone</th>\n",
       "      <th>IOS</th>\n",
       "      <th>Apple</th>\n",
       "      <th>Mac</th>\n",
       "      <th>Operating System</th>\n",
       "      <th>App</th>\n",
       "      <th>Water</th>\n",
       "      <th>Banana</th>\n",
       "      <th>Jump</th>\n",
       "    </tr>\n",
       "    <tr>\n",
       "      <th>date</th>\n",
       "      <th></th>\n",
       "      <th></th>\n",
       "      <th></th>\n",
       "      <th></th>\n",
       "      <th></th>\n",
       "      <th></th>\n",
       "      <th></th>\n",
       "      <th></th>\n",
       "      <th></th>\n",
       "    </tr>\n",
       "  </thead>\n",
       "  <tbody>\n",
       "    <tr>\n",
       "      <th>2004-03-31</th>\n",
       "      <td>0.000000</td>\n",
       "      <td>1.000000</td>\n",
       "      <td>19.666667</td>\n",
       "      <td>70.333333</td>\n",
       "      <td>98.666667</td>\n",
       "      <td>1.666667</td>\n",
       "      <td>59.666667</td>\n",
       "      <td>36.333333</td>\n",
       "      <td>47.000000</td>\n",
       "    </tr>\n",
       "    <tr>\n",
       "      <th>2004-06-30</th>\n",
       "      <td>0.000000</td>\n",
       "      <td>1.666667</td>\n",
       "      <td>19.333333</td>\n",
       "      <td>68.333333</td>\n",
       "      <td>85.333333</td>\n",
       "      <td>2.000000</td>\n",
       "      <td>68.333333</td>\n",
       "      <td>40.666667</td>\n",
       "      <td>44.666667</td>\n",
       "    </tr>\n",
       "    <tr>\n",
       "      <th>2004-09-30</th>\n",
       "      <td>0.000000</td>\n",
       "      <td>1.333333</td>\n",
       "      <td>22.000000</td>\n",
       "      <td>64.666667</td>\n",
       "      <td>87.333333</td>\n",
       "      <td>1.333333</td>\n",
       "      <td>67.000000</td>\n",
       "      <td>38.666667</td>\n",
       "      <td>47.333333</td>\n",
       "    </tr>\n",
       "    <tr>\n",
       "      <th>2004-12-31</th>\n",
       "      <td>0.000000</td>\n",
       "      <td>1.000000</td>\n",
       "      <td>24.333333</td>\n",
       "      <td>71.666667</td>\n",
       "      <td>78.666667</td>\n",
       "      <td>2.000000</td>\n",
       "      <td>59.333333</td>\n",
       "      <td>46.333333</td>\n",
       "      <td>48.000000</td>\n",
       "    </tr>\n",
       "    <tr>\n",
       "      <th>2005-03-31</th>\n",
       "      <td>0.000000</td>\n",
       "      <td>1.000000</td>\n",
       "      <td>27.333333</td>\n",
       "      <td>72.000000</td>\n",
       "      <td>76.000000</td>\n",
       "      <td>1.666667</td>\n",
       "      <td>68.000000</td>\n",
       "      <td>41.666667</td>\n",
       "      <td>49.333333</td>\n",
       "    </tr>\n",
       "    <tr>\n",
       "      <th>...</th>\n",
       "      <td>...</td>\n",
       "      <td>...</td>\n",
       "      <td>...</td>\n",
       "      <td>...</td>\n",
       "      <td>...</td>\n",
       "      <td>...</td>\n",
       "      <td>...</td>\n",
       "      <td>...</td>\n",
       "      <td>...</td>\n",
       "    </tr>\n",
       "    <tr>\n",
       "      <th>2022-09-30</th>\n",
       "      <td>52.000000</td>\n",
       "      <td>20.333333</td>\n",
       "      <td>49.666667</td>\n",
       "      <td>39.666667</td>\n",
       "      <td>38.333333</td>\n",
       "      <td>80.666667</td>\n",
       "      <td>90.333333</td>\n",
       "      <td>66.000000</td>\n",
       "      <td>44.666667</td>\n",
       "    </tr>\n",
       "    <tr>\n",
       "      <th>2022-12-31</th>\n",
       "      <td>49.333333</td>\n",
       "      <td>16.000000</td>\n",
       "      <td>51.000000</td>\n",
       "      <td>43.000000</td>\n",
       "      <td>39.000000</td>\n",
       "      <td>77.333333</td>\n",
       "      <td>80.666667</td>\n",
       "      <td>60.666667</td>\n",
       "      <td>43.666667</td>\n",
       "    </tr>\n",
       "    <tr>\n",
       "      <th>2023-03-31</th>\n",
       "      <td>50.000000</td>\n",
       "      <td>14.000000</td>\n",
       "      <td>45.666667</td>\n",
       "      <td>41.666667</td>\n",
       "      <td>38.000000</td>\n",
       "      <td>81.333333</td>\n",
       "      <td>95.333333</td>\n",
       "      <td>69.000000</td>\n",
       "      <td>46.333333</td>\n",
       "    </tr>\n",
       "    <tr>\n",
       "      <th>2023-06-30</th>\n",
       "      <td>43.666667</td>\n",
       "      <td>14.333333</td>\n",
       "      <td>42.666667</td>\n",
       "      <td>36.666667</td>\n",
       "      <td>34.000000</td>\n",
       "      <td>78.000000</td>\n",
       "      <td>90.000000</td>\n",
       "      <td>64.666667</td>\n",
       "      <td>45.333333</td>\n",
       "    </tr>\n",
       "    <tr>\n",
       "      <th>2023-09-30</th>\n",
       "      <td>52.333333</td>\n",
       "      <td>17.000000</td>\n",
       "      <td>50.333333</td>\n",
       "      <td>39.333333</td>\n",
       "      <td>34.333333</td>\n",
       "      <td>80.666667</td>\n",
       "      <td>93.000000</td>\n",
       "      <td>62.000000</td>\n",
       "      <td>46.000000</td>\n",
       "    </tr>\n",
       "  </tbody>\n",
       "</table>\n",
       "<p>79 rows × 9 columns</p>\n",
       "</div>"
      ],
      "text/plain": [
       "               iPhone        IOS      Apple        Mac  Operating System  \\\n",
       "date                                                                       \n",
       "2004-03-31   0.000000   1.000000  19.666667  70.333333         98.666667   \n",
       "2004-06-30   0.000000   1.666667  19.333333  68.333333         85.333333   \n",
       "2004-09-30   0.000000   1.333333  22.000000  64.666667         87.333333   \n",
       "2004-12-31   0.000000   1.000000  24.333333  71.666667         78.666667   \n",
       "2005-03-31   0.000000   1.000000  27.333333  72.000000         76.000000   \n",
       "...               ...        ...        ...        ...               ...   \n",
       "2022-09-30  52.000000  20.333333  49.666667  39.666667         38.333333   \n",
       "2022-12-31  49.333333  16.000000  51.000000  43.000000         39.000000   \n",
       "2023-03-31  50.000000  14.000000  45.666667  41.666667         38.000000   \n",
       "2023-06-30  43.666667  14.333333  42.666667  36.666667         34.000000   \n",
       "2023-09-30  52.333333  17.000000  50.333333  39.333333         34.333333   \n",
       "\n",
       "                  App      Water     Banana       Jump  \n",
       "date                                                    \n",
       "2004-03-31   1.666667  59.666667  36.333333  47.000000  \n",
       "2004-06-30   2.000000  68.333333  40.666667  44.666667  \n",
       "2004-09-30   1.333333  67.000000  38.666667  47.333333  \n",
       "2004-12-31   2.000000  59.333333  46.333333  48.000000  \n",
       "2005-03-31   1.666667  68.000000  41.666667  49.333333  \n",
       "...               ...        ...        ...        ...  \n",
       "2022-09-30  80.666667  90.333333  66.000000  44.666667  \n",
       "2022-12-31  77.333333  80.666667  60.666667  43.666667  \n",
       "2023-03-31  81.333333  95.333333  69.000000  46.333333  \n",
       "2023-06-30  78.000000  90.000000  64.666667  45.333333  \n",
       "2023-09-30  80.666667  93.000000  62.000000  46.000000  \n",
       "\n",
       "[79 rows x 9 columns]"
      ]
     },
     "execution_count": 74,
     "metadata": {},
     "output_type": "execute_result"
    }
   ],
   "source": [
    "df = df.resample(\"Q\").mean()\n",
    "df = df.loc[:\"2023-09-30\"]\n",
    "df"
   ]
  },
  {
   "cell_type": "markdown",
   "id": "73c7abb8",
   "metadata": {},
   "source": [
    "# 2.) Normalize all the X data"
   ]
  },
  {
   "cell_type": "code",
   "execution_count": 31,
   "id": "95a7bb4d",
   "metadata": {},
   "outputs": [],
   "source": [
    "from sklearn.preprocessing import StandardScaler"
   ]
  },
  {
   "cell_type": "code",
   "execution_count": 75,
   "id": "397b45e8",
   "metadata": {},
   "outputs": [],
   "source": [
    "scaler = StandardScaler()"
   ]
  },
  {
   "cell_type": "code",
   "execution_count": 76,
   "id": "f7f84dd7",
   "metadata": {},
   "outputs": [
    {
     "name": "stderr",
     "output_type": "stream",
     "text": [
      "/Users/elena/opt/anaconda3/lib/python3.9/site-packages/sklearn/utils/validation.py:571: FutureWarning: is_sparse is deprecated and will be removed in a future version. Check `isinstance(dtype, pd.SparseDtype)` instead.\n",
      "  array.dtypes.apply(is_sparse).any()):\n",
      "/Users/elena/opt/anaconda3/lib/python3.9/site-packages/sklearn/utils/validation.py:571: FutureWarning: is_sparse is deprecated and will be removed in a future version. Check `isinstance(dtype, pd.SparseDtype)` instead.\n",
      "  array.dtypes.apply(is_sparse).any()):\n"
     ]
    }
   ],
   "source": [
    "X_scaled = scaler.fit_transform(df)"
   ]
  },
  {
   "cell_type": "markdown",
   "id": "4b75277e",
   "metadata": {},
   "source": [
    "# 3.) Import data. Train, Test, Holdout (80%,15%,5%)"
   ]
  },
  {
   "cell_type": "code",
   "execution_count": 34,
   "id": "0cf724f7",
   "metadata": {},
   "outputs": [],
   "source": [
    "# X_train, X_temp, y_train, y_temp = train_test_split(X, y, test_size = 0.2, random_state = 42)"
   ]
  },
  {
   "cell_type": "code",
   "execution_count": 35,
   "id": "5694510c",
   "metadata": {},
   "outputs": [],
   "source": [
    "# X_test, X_holdout, y_test, y_holdout = train_test_split(X_temp, y_temp, test_size = 0.25, random_state = 42) "
   ]
  },
  {
   "cell_type": "code",
   "execution_count": null,
   "id": "77671d95",
   "metadata": {},
   "outputs": [],
   "source": []
  },
  {
   "cell_type": "markdown",
   "id": "da43d5ef",
   "metadata": {},
   "source": [
    "# 4.) Run a Lasso with lambda of .5. Plot a bar chart."
   ]
  },
  {
   "cell_type": "code",
   "execution_count": 36,
   "id": "b7ff06aa",
   "metadata": {},
   "outputs": [],
   "source": [
    "from sklearn.linear_model import Lasso\n",
    "import matplotlib.pyplot as plt\n",
    "import numpy as np"
   ]
  },
  {
   "cell_type": "code",
   "execution_count": 90,
   "id": "f7311bec",
   "metadata": {},
   "outputs": [],
   "source": [
    "lasso = Lasso(alpha = .5)"
   ]
  },
  {
   "cell_type": "code",
   "execution_count": 91,
   "id": "71d15d2c",
   "metadata": {},
   "outputs": [
    {
     "name": "stderr",
     "output_type": "stream",
     "text": [
      "/Users/elena/opt/anaconda3/lib/python3.9/site-packages/sklearn/utils/validation.py:571: FutureWarning: is_sparse is deprecated and will be removed in a future version. Check `isinstance(dtype, pd.SparseDtype)` instead.\n",
      "  array.dtypes.apply(is_sparse).any()):\n"
     ]
    },
    {
     "data": {
      "text/plain": [
       "Lasso(alpha=0.5)"
      ]
     },
     "execution_count": 91,
     "metadata": {},
     "output_type": "execute_result"
    }
   ],
   "source": [
    "lasso.fit(X_scaled, y)"
   ]
  },
  {
   "cell_type": "code",
   "execution_count": 88,
   "id": "42250307",
   "metadata": {},
   "outputs": [
    {
     "name": "stdout",
     "output_type": "stream",
     "text": [
      "[ 0.          0.          0.         -0.         -0.          0.03789776\n",
      "  0.          0.         -0.        ]\n"
     ]
    }
   ],
   "source": [
    "coefficients = lasso.coef_\n",
    "intercept = lasso.intercept_\n",
    "\n",
    "print(coefficients)\n",
    "# coefficients = np.append(intercept, coefficients)\n",
    "# print(coefficients)"
   ]
  },
  {
   "cell_type": "code",
   "execution_count": 89,
   "id": "969438a5",
   "metadata": {},
   "outputs": [
    {
     "data": {
      "image/png": "[encoded data removed]",
      "text/plain": [
       "<Figure size 864x360 with 1 Axes>"
      ]
     },
     "metadata": {
      "needs_background": "light"
     },
     "output_type": "display_data"
    }
   ],
   "source": [
    "plt.figure(figsize = (12,5))\n",
    "categories = [\"iPhone\", \"IOS\", \"Apple\", \"Mac\", \"Operating System\", \"App\", \"Water\", \"Banana\", \"Jump\"]\n",
    "plt.bar(range(len(coefficients)), coefficients)\n",
    "plt.axhline(0, color = 'red')\n",
    "plt.show()"
   ]
  },
  {
   "cell_type": "markdown",
   "id": "e130a2be",
   "metadata": {},
   "source": [
    "# 5.) Do these coefficient magnitudes make sense?"
   ]
  },
  {
   "cell_type": "code",
   "execution_count": null,
   "id": "0798b232",
   "metadata": {},
   "outputs": [],
   "source": [
    "# Only \"App\" has a non-zero coefficient of +0.038, while other predictors' coefficients all shrink to 0.\n",
    "# The coefficient magnitude shows that \"App\" has a positive relationship with Apple's EPS, which makes sense \n",
    "    # because Apple obtain a lot of its earnings from App Store and Apple's ecosystem is supported by Apple's apps."
   ]
  },
  {
   "cell_type": "markdown",
   "id": "3a2bd7d7",
   "metadata": {},
   "source": [
    "# 6.) Run a for loop looking at 10 different Lambdas and plot the coefficient magnitude for each."
   ]
  },
  {
   "cell_type": "code",
   "execution_count": null,
   "id": "1f115bee",
   "metadata": {},
   "outputs": [],
   "source": []
  },
  {
   "cell_type": "code",
   "execution_count": null,
   "id": "7a3e12d3",
   "metadata": {},
   "outputs": [],
   "source": []
  },
  {
   "cell_type": "markdown",
   "id": "17b28626",
   "metadata": {},
   "source": [
    "# 7.) Run a cross validation. What is your ideal lambda?"
   ]
  },
  {
   "cell_type": "code",
   "execution_count": null,
   "id": "9fc5cca1",
   "metadata": {},
   "outputs": [],
   "source": []
  },
  {
   "cell_type": "code",
   "execution_count": null,
   "id": "a58a192a",
   "metadata": {},
   "outputs": [],
   "source": []
  }
 ],
 "metadata": {
  "kernelspec": {
   "display_name": "Python 3 (ipykernel)",
   "language": "python",
   "name": "python3"
  },
  "language_info": {
   "codemirror_mode": {
    "name": "ipython",
    "version": 3
   },
   "file_extension": ".py",
   "mimetype": "text/x-python",
   "name": "python",
   "nbconvert_exporter": "python",
   "pygments_lexer": "ipython3",
   "version": "3.9.7"
  }
 },
 "nbformat": 4,
 "nbformat_minor": 5
}
